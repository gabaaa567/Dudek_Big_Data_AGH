{
 "cells": [
  {
   "cell_type": "code",
   "execution_count": 0,
   "metadata": {
    "application/vnd.databricks.v1+cell": {
     "cellMetadata": {
      "byteLimit": 2048000,
      "rowLimit": 10000
     },
     "inputWidgets": {},
     "nuid": "4b8c9aff-9ff0-4d47-a84c-27d93d8c4da4",
     "showTitle": false,
     "tableResultSettingsMap": {},
     "title": ""
    }
   },
   "outputs": [
    {
     "output_type": "stream",
     "name": "stdout",
     "output_type": "stream",
     "text": [
      "+----+-----+---------+-----+-------+-----+-----+-----+----+----+----+\n| _c0|  _c1|      _c2|  _c3|    _c4|  _c5|  _c6|  _c7| _c8| _c9|_c10|\n+----+-----+---------+-----+-------+-----+-----+-----+----+----+----+\n|null|carat|      cut|color|clarity|depth|table|price|   x|   y|   z|\n|   1| 0.23|    Ideal|    E|    SI2| 61.5|   55|  326|3.95|3.98|2.43|\n|   2| 0.21|  Premium|    E|    SI1| 59.8|   61|  326|3.89|3.84|2.31|\n|   3| 0.23|     Good|    E|    VS1| 56.9|   65|  327|4.05|4.07|2.31|\n|   4| 0.29|  Premium|    I|    VS2| 62.4|   58|  334| 4.2|4.23|2.63|\n|   5| 0.31|     Good|    J|    SI2| 63.3|   58|  335|4.34|4.35|2.75|\n|   6| 0.24|Very Good|    J|   VVS2| 62.8|   57|  336|3.94|3.96|2.48|\n|   7| 0.24|Very Good|    I|   VVS1| 62.3|   57|  336|3.95|3.98|2.47|\n|   8| 0.26|Very Good|    H|    SI1| 61.9|   55|  337|4.07|4.11|2.53|\n|   9| 0.22|     Fair|    E|    VS2| 65.1|   61|  337|3.87|3.78|2.49|\n+----+-----+---------+-----+-------+-----+-----+-----+----+----+----+\nonly showing top 10 rows\n\n"
     ]
    }
   ],
   "source": [
    "#Zadanie 2\n",
    "\n",
    "from pyspark.sql import SparkSession\n",
    "from pyspark.sql.types import StructType, StructField, DoubleType, IntegerType, StringType\n",
    "\n",
    "spark = SparkSession.builder.appName(\"DiamondsCSV\").getOrCreate()\n",
    "\n",
    "#definiownie schematu danych\n",
    "schema = StructType([\n",
    "    StructField(\"carat\", DoubleType(), True),\n",
    "    StructField(\"cut\", StringType(), True),\n",
    "    StructField(\"color\", StringType(), True),\n",
    "    StructField(\"clarity\", StringType(), True),\n",
    "    StructField(\"depth\", DoubleType(), True),\n",
    "    StructField(\"table\", DoubleType(), True),\n",
    "    StructField(\"price\", IntegerType(), True),\n",
    "    StructField(\"x\", DoubleType(), True),\n",
    "    StructField(\"y\", DoubleType(), True),\n",
    "    StructField(\"z\", DoubleType(), True)\n",
    "])\n",
    "\n",
    "#zaladowalam plik csv do zakladki Catalogs jako table i wczytalam\n",
    "df = spark.read.table(\"default.diamonds_1_csv\")\n",
    "df.show(10)\n",
    "\n"
   ]
  },
  {
   "cell_type": "code",
   "execution_count": 0,
   "metadata": {
    "application/vnd.databricks.v1+cell": {
     "cellMetadata": {
      "byteLimit": 2048000,
      "rowLimit": 10000
     },
     "inputWidgets": {},
     "nuid": "c52a03ee-6d17-4d55-a93b-f01f48b3ec4d",
     "showTitle": false,
     "tableResultSettingsMap": {},
     "title": ""
    }
   },
   "outputs": [
    {
     "output_type": "stream",
     "name": "stdout",
     "output_type": "stream",
     "text": [
      "+----+-----+---------+-----+-------+-----+-----+-----+----+----+----+\n| _c0|  _c1|      _c2|  _c3|    _c4|  _c5|  _c6|  _c7| _c8| _c9|_c10|\n+----+-----+---------+-----+-------+-----+-----+-----+----+----+----+\n|null|carat|      cut|color|clarity|depth|table|price|   x|   y|   z|\n|   1| 0.23|    Ideal|    E|    SI2| 61.5|   55|  326|3.95|3.98|2.43|\n|   2| 0.21|  Premium|    E|    SI1| 59.8|   61|  326|3.89|3.84|2.31|\n|   3| 0.23|     Good|    E|    VS1| 56.9|   65|  327|4.05|4.07|2.31|\n|   4| 0.29|  Premium|    I|    VS2| 62.4|   58|  334| 4.2|4.23|2.63|\n|   5| 0.31|     Good|    J|    SI2| 63.3|   58|  335|4.34|4.35|2.75|\n|   6| 0.24|Very Good|    J|   VVS2| 62.8|   57|  336|3.94|3.96|2.48|\n|   7| 0.24|Very Good|    I|   VVS1| 62.3|   57|  336|3.95|3.98|2.47|\n|   8| 0.26|Very Good|    H|    SI1| 61.9|   55|  337|4.07|4.11|2.53|\n|   9| 0.22|     Fair|    E|    VS2| 65.1|   61|  337|3.87|3.78|2.49|\n|  10| 0.23|Very Good|    H|    VS1| 59.4|   61|  338|   4|4.05|2.39|\n|  11|  0.3|     Good|    J|    SI1|   64|   55|  339|4.25|4.28|2.73|\n|  12| 0.23|    Ideal|    J|    VS1| 62.8|   56|  340|3.93| 3.9|2.46|\n|  13| 0.22|  Premium|    F|    SI1| 60.4|   61|  342|3.88|3.84|2.33|\n|  14| 0.31|    Ideal|    J|    SI2| 62.2|   54|  344|4.35|4.37|2.71|\n|  15|  0.2|  Premium|    E|    SI2| 60.2|   62|  345|3.79|3.75|2.27|\n|  16| 0.32|  Premium|    E|     I1| 60.9|   58|  345|4.38|4.42|2.68|\n|  17|  0.3|    Ideal|    I|    SI2|   62|   54|  348|4.31|4.34|2.68|\n|  18|  0.3|     Good|    J|    SI1| 63.4|   54|  351|4.23|4.29| 2.7|\n|  19|  0.3|     Good|    J|    SI1| 63.8|   56|  351|4.23|4.26|2.71|\n+----+-----+---------+-----+-------+-----+-----+-----+----+----+----+\nonly showing top 20 rows\n\nPERMISSIVE mode:\n+-----+-------+-----+-------+-----+-----+-----+----+----+----+\n|carat|    cut|color|clarity|depth|table|price|   x|   y|   z|\n+-----+-------+-----+-------+-----+-----+-----+----+----+----+\n| 0.23|  Ideal|    E|    SI2| 61.5|   55|326.0|3.95|3.98|2.43|\n| null|Premium|    E|    SI1| 59.8|   61|326.0|3.89|3.84|2.31|\n| 0.31|   Good|    D|    VS1| 58.1|   57| null|4.34|4.35|2.75|\n+-----+-------+-----+-------+-----+-----+-----+----+----+----+\n\nDROPMALFORMED mode:\n+-----+-----+-----+-------+-----+-----+-----+----+----+----+\n|carat|  cut|color|clarity|depth|table|price|   x|   y|   z|\n+-----+-----+-----+-------+-----+-----+-----+----+----+----+\n| 0.23|Ideal|    E|    SI2| 61.5|   55|326.0|3.95|3.98|2.43|\n+-----+-----+-----+-------+-----+-----+-----+----+----+----+\n\nFAILFAST mode error: Niepoprawne dane\n"
     ]
    }
   ],
   "source": [
    "#zadanie 3\n",
    "import pandas as pd\n",
    "from pyspark.sql import SparkSession\n",
    "\n",
    "df_broken_csv = spark.sql(\"SELECT * FROM diamonds_broken_csv\")\n",
    "df_broken_csv.show()\n",
    "\n",
    "\n",
    "# uszkodzonenie pliku\n",
    "data = [\n",
    "    [\"carat\", \"cut\", \"color\", \"clarity\", \"depth\", \"table\", \"price\", \"x\", \"y\", \"z\"], \n",
    "    [0.23, \"Ideal\", \"E\", \"SI2\", 61.5, 55, 326, 3.95, 3.98, 2.43],  # OK\n",
    "    [None, \"Premium\", \"E\", \"SI1\", 59.8, 61, 326, 3.89, 3.84, 2.31],  # zla wartosc jedna\n",
    "    [0.31, \"Good\", \"D\", \"VS1\", 58.1, 57, None, 4.34, 4.35, 2.75],  # brak wartosci jednej\n",
    "]\n",
    "\n",
    "df_broken = pd.DataFrame(data[1:], columns=data[0])\n",
    "df_spark = spark.createDataFrame(df_broken)\n",
    "\n",
    "#tymczasowa tabela - problem ze stworzenie jakiejs na stale..\n",
    "#df_spark.createOrReplaceTempView(\"diamonds_broken\")\n",
    "\n",
    "df_spark.write.mode(\"overwrite\").option(\"header\", True).csv(\"dbfs:/Workspace/diamonds_broken.csv\")\n",
    "\n",
    "\n",
    "# PERMISSIVE (domyślny) błędne wartości jako NULL\n",
    "df_permissive = spark.sql(\"SELECT * FROM diamonds_broken\")\n",
    "print(\"PERMISSIVE mode:\")\n",
    "df_permissive.show()\n",
    "\n",
    "# DROPMALFORMED – usuwanie błędnych wierszy \n",
    "df_dropmalformed = df_permissive.dropna()\n",
    "print(\"DROPMALFORMED mode:\")\n",
    "df_dropmalformed.show()\n",
    "\n",
    "# FAILFAST jeśli są jakiekolwiek błędne wartości, to wyjątek\n",
    "try:\n",
    "    if df_permissive.where(\"carat IS NULL OR carat = '?' OR price IS NULL\").count():\n",
    "        raise ValueError(\"FAILFAST mode error: Niepoprawne dane\")\n",
    "    print(\"FAILFAST mode:\")\n",
    "    df_permissive.show()\n",
    "except ValueError as e:\n",
    "    print(e)\n",
    "\n"
   ]
  },
  {
   "cell_type": "code",
   "execution_count": 0,
   "metadata": {
    "application/vnd.databricks.v1+cell": {
     "cellMetadata": {
      "byteLimit": 2048000,
      "rowLimit": 10000
     },
     "inputWidgets": {},
     "nuid": "31b22a59-42a6-4011-ab8b-690e1e25dc67",
     "showTitle": false,
     "tableResultSettingsMap": {},
     "title": ""
    }
   },
   "outputs": [
    {
     "output_type": "stream",
     "name": "stdout",
     "output_type": "stream",
     "text": [
      "+-----+-------+-----+-------+-----+-----+-----+----+----+----+\n|carat|    cut|color|clarity|depth|table|price|   x|   y|   z|\n+-----+-------+-----+-------+-----+-----+-----+----+----+----+\n| 0.23|  Ideal|    E|    SI2| 61.5|   55|326.0|3.95|3.98|2.43|\n| null|Premium|    E|    SI1| 59.8|   61|326.0|3.89|3.84|2.31|\n| 0.31|   Good|    D|    VS1| 58.1|   57| null|4.34|4.35|2.75|\n+-----+-------+-----+-------+-----+-----+-----+----+----+----+\n\n+-----+-------+-----+-------+-----+-----+-----+----+----+----+\n|carat|    cut|color|clarity|depth|table|price|   x|   y|   z|\n+-----+-------+-----+-------+-----+-----+-----+----+----+----+\n| 0.23|  Ideal|    E|    SI2| 61.5|   55|326.0|3.95|3.98|2.43|\n| null|Premium|    E|    SI1| 59.8|   61|326.0|3.89|3.84|2.31|\n| 0.31|   Good|    D|    VS1| 58.1|   57| null|4.34|4.35|2.75|\n+-----+-------+-----+-------+-----+-----+-----+----+----+----+\n\n+-----+-------+-----+-------+-----+-----+-----+----+----+----+\n|carat|clarity|color|    cut|depth|price|table|   x|   y|   z|\n+-----+-------+-----+-------+-----+-----+-----+----+----+----+\n| 0.23|    SI2|    E|  Ideal| 61.5|326.0|   55|3.95|3.98|2.43|\n| null|    SI1|    E|Premium| 59.8|326.0|   61|3.89|3.84|2.31|\n| 0.31|    VS1|    D|   Good| 58.1| null|   57|4.34|4.35|2.75|\n+-----+-------+-----+-------+-----+-----+-----+----+----+----+\n\n"
     ]
    }
   ],
   "source": [
    "# ZADANIE 4\n",
    "\n",
    "df_spark.show()\n",
    "\n",
    "#zapis do .parquet\n",
    "df_spark.write.mode(\"overwrite\").parquet(\"dbfs:/Workspace/diamonds.parquet\")\n",
    "df_parquet = spark.read.parquet(\"dbfs:/Workspace/diamonds.parquet\")\n",
    "df_parquet.show()\n",
    "\n",
    "#zapis do .json\n",
    "df_spark.write.mode(\"overwrite\").json(\"dbfs:/Workspace/diamonds1.json\")\n",
    "df_json1 = spark.read.json(\"dbfs:/Workspace/diamonds1.json\")\n",
    "df_json1.show()\n"
   ]
  }
 ],
 "metadata": {
  "application/vnd.databricks.v1+notebook": {
   "computePreferences": null,
   "dashboards": [],
   "environmentMetadata": {
    "base_environment": "",
    "client": "1"
   },
   "language": "python",
   "notebookMetadata": {
    "pythonIndentUnit": 4
   },
   "notebookName": "lab1_czesc2",
   "widgets": {}
  }
 },
 "nbformat": 4,
 "nbformat_minor": 0
}
